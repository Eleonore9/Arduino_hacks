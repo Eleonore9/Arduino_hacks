{
 "metadata": {
  "name": ""
 },
 "nbformat": 3,
 "nbformat_minor": 0,
 "worksheets": [
  {
   "cells": [
    {
     "cell_type": "markdown",
     "metadata": {},
     "source": [
      "My initial idea: \n",
      "---------\n",
      "\n",
      "Have Christmas tree lights that only light up when someone is in the room thanks to a motion detection sensor."
     ]
    },
    {
     "cell_type": "markdown",
     "metadata": {},
     "source": [
      "Changes: \n",
      "-------\n",
      "\n",
      "It would be too complicated to use regular Christmas lights -> use LEDs from Adafruit  "
     ]
    },
    {
     "cell_type": "markdown",
     "metadata": {},
     "source": [
      "Materials:\n",
      "----------\n",
      "* Infrared motion sensor from modmypi.com\n",
      "* Adafruit NeoPixel Digital RGB LED strip from ebay.com"
     ]
    },
    {
     "cell_type": "code",
     "collapsed": false,
     "input": [],
     "language": "python",
     "metadata": {},
     "outputs": []
    }
   ],
   "metadata": {}
  }
 ]
}