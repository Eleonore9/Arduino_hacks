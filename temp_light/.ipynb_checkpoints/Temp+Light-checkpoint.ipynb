{
 "metadata": {
  "name": ""
 },
 "nbformat": 3,
 "nbformat_minor": 0,
 "worksheets": [
  {
   "cells": [
    {
     "cell_type": "code",
     "collapsed": false,
     "input": [
      "%matplotlib inline \n",
      "#Magic command to display the plots in the notebook"
     ],
     "language": "python",
     "metadata": {},
     "outputs": [],
     "prompt_number": 12
    },
    {
     "cell_type": "markdown",
     "metadata": {},
     "source": [
      "Playing around with an Arduino Uno and 2 sensors\n",
      "======================"
     ]
    },
    {
     "cell_type": "code",
     "collapsed": false,
     "input": [
      "import serial #access the serial port\n",
      "import time \n",
      "from datetime import datetime #use datetime library, duh!\n",
      "import matplotlib.pyplot as plt #use matplotlib to visualise sensor data\n",
      "from matplotlib.dates import YearLocator, DateFormatter #I'd like to use dates!\n",
      "import numpy as np #use numpy as well\n",
      "from ggplot import * #let's try to have a nicer visualisation"
     ],
     "language": "python",
     "metadata": {},
     "outputs": [],
     "prompt_number": 13
    },
    {
     "cell_type": "markdown",
     "metadata": {},
     "source": [
      "ARDUINO -> compile the sketch and upload it to the board\n",
      "-------------"
     ]
    },
    {
     "cell_type": "code",
     "collapsed": false,
     "input": [
      "%%bash\n",
      "ino build\n",
      "ino upload"
     ],
     "language": "python",
     "metadata": {},
     "outputs": [
      {
       "output_type": "stream",
       "stream": "stdout",
       "text": [
        "Guessing serial port ... /dev/ttyACM1\n"
       ]
      },
      {
       "output_type": "stream",
       "stream": "stderr",
       "text": [
        "\n",
        "avrdude: AVR device initialized and ready to accept instructions\n",
        "\n",
        "Reading | ################################################## | 100% 0.00s\n",
        "\n",
        "avrdude: Device signature = 0x1e950f\n",
        "avrdude: reading input file \".build/uno/firmware.hex\"\n",
        "avrdude: writing flash (6832 bytes):\n",
        "\n",
        "Writing | ################################################## | 100% 1.10s\n",
        "\n",
        "avrdude: 6832 bytes of flash written\n",
        "avrdude: verifying flash memory against .build/uno/firmware.hex:\n",
        "avrdude: load data flash data from input file .build/uno/firmware.hex:\n",
        "avrdude: input file .build/uno/firmware.hex contains 6832 bytes\n",
        "avrdude: reading on-chip flash data:\n",
        "\n",
        "Reading | ################################################## | 100% 0.88s\n",
        "\n",
        "avrdude: verifying ...\n",
        "avrdude: 6832 bytes of flash verified\n",
        "\n",
        "avrdude done.  Thank you.\n",
        "\n"
       ]
      }
     ],
     "prompt_number": 14
    },
    {
     "cell_type": "markdown",
     "metadata": {},
     "source": [
      "PYTHON -> access data output from the Arduino\n",
      "----------------"
     ]
    },
    {
     "cell_type": "code",
     "collapsed": false,
     "input": [
      "SERIAL_PORT = \"/dev/ttyACM1\" #set serial port to get data output from Arduino"
     ],
     "language": "python",
     "metadata": {},
     "outputs": [],
     "prompt_number": 22
    },
    {
     "cell_type": "code",
     "collapsed": false,
     "input": [
      "serialConnection = serial.Serial(SERIAL_PORT, timeout=2.0) #open the serial port"
     ],
     "language": "python",
     "metadata": {},
     "outputs": [],
     "prompt_number": 23
    },
    {
     "cell_type": "code",
     "collapsed": false,
     "input": [
      "sensors_data = {\"light\": [], \"temp\": []}\n",
      "\n",
      "count = 20\n",
      "while count >= 0:\n",
      "    mydata = serialConnection.readline().strip()\n",
      "    if mydata:\n",
      "        print mydata\n",
      "        sensors_data[\"light\"].append(float(mydata.split(',')[0]))\n",
      "        sensors_data[\"temp\"].append(float(mydata.split(',')[1]))\n",
      "        count -= 1"
     ],
     "language": "python",
     "metadata": {},
     "outputs": [
      {
       "output_type": "stream",
       "stream": "stdout",
       "text": [
        "39.42,19.34\n",
        "41.67,19.34\n",
        "45.00,19.34\n",
        "49.13,19.34\n",
        "54.75,19.34\n",
        "58.20,19.34\n",
        "64.13,19.34\n",
        "68.09,19.82\n",
        "71.84,19.34\n",
        "69.92,19.34\n",
        "71.19,19.82"
       ]
      },
      {
       "output_type": "stream",
       "stream": "stdout",
       "text": [
        "\n",
        "73.85,19.34"
       ]
      },
      {
       "output_type": "stream",
       "stream": "stdout",
       "text": [
        "\n",
        "63.60,19.34"
       ]
      },
      {
       "output_type": "stream",
       "stream": "stdout",
       "text": [
        "\n",
        "58.66,19.34"
       ]
      },
      {
       "output_type": "stream",
       "stream": "stdout",
       "text": [
        "\n",
        "51.26,18.85"
       ]
      },
      {
       "output_type": "stream",
       "stream": "stdout",
       "text": [
        "\n",
        "46.83,19.34"
       ]
      },
      {
       "output_type": "stream",
       "stream": "stdout",
       "text": [
        "\n",
        "42.73,19.82"
       ]
      },
      {
       "output_type": "stream",
       "stream": "stdout",
       "text": [
        "\n",
        "39.42,20.31"
       ]
      },
      {
       "output_type": "stream",
       "stream": "stdout",
       "text": [
        "\n",
        "35.87,20.31"
       ]
      },
      {
       "output_type": "stream",
       "stream": "stdout",
       "text": [
        "\n",
        "33.53,20.80"
       ]
      },
      {
       "output_type": "stream",
       "stream": "stdout",
       "text": [
        "\n",
        "28.60,20.80"
       ]
      },
      {
       "output_type": "stream",
       "stream": "stdout",
       "text": [
        "\n"
       ]
      }
     ],
     "prompt_number": 25
    },
    {
     "cell_type": "code",
     "collapsed": false,
     "input": [
      "for k, v in sensors_data.iteritems():\n",
      "    print k, ': ', v"
     ],
     "language": "python",
     "metadata": {},
     "outputs": [
      {
       "output_type": "stream",
       "stream": "stdout",
       "text": [
        "light :  [39.42, 41.67, 45.0, 49.13, 54.75, 58.2, 64.13, 68.09, 71.84, 69.92, 71.19, 73.85, 63.6, 58.66, 51.26, 46.83, 42.73, 39.42, 35.87, 33.53, 28.6]\n",
        "temp :  [19.34, 19.34, 19.34, 19.34, 19.34, 19.34, 19.34, 19.82, 19.34, 19.34, 19.82, 19.34, 19.34, 19.34, 18.85, 19.34, 19.82, 20.31, 20.31, 20.8, 20.8]\n"
       ]
      }
     ],
     "prompt_number": 26
    },
    {
     "cell_type": "code",
     "collapsed": false,
     "input": [
      "plt.plot(np.arange(len(sensors_data['light'])), sensors_data['light'])\n",
      "plt.axis([0, len(sensors_data['light']), min(sensors_data['light']) - 1, max(sensors_data['light']) + 1])\n",
      "ticks_pos = [i + 1.5 for i in range(len(sensors_data['light']))]\n",
      "plt.xticks(ticks_pos, range(len(sensors_data['light'])))\n",
      "plt.ylabel('Light intensity')\n",
      "plt.title('Light intensity measurement with a sensor and Arduino Uno')\n",
      "plt.show()"
     ],
     "language": "python",
     "metadata": {},
     "outputs": [
      {
       "metadata": {},
       "output_type": "display_data",
       "png": "[encoded data removed]",
       "text": [
        "<matplotlib.figure.Figure at 0x7f3a8c967890>"
       ]
      }
     ],
     "prompt_number": 27
    },
    {
     "cell_type": "code",
     "collapsed": false,
     "input": [
      "plt.plot(np.arange(len(sensors_data['temp'])), sensors_data['temp'])\n",
      "plt.axis([0, len(sensors_data['temp']), min(sensors_data['temp']) - 1, max(sensors_data['temp']) + 1])\n",
      "ticks_pos = [i + 1.5 for i in range(len(sensors_data['temp']))]\n",
      "plt.xticks(ticks_pos, range(len(sensors_data['temp'])))\n",
      "plt.ylabel('Temperature (\u00b0C)')\n",
      "plt.title('Temperature measurement with a sensor and Arduino Uno')\n",
      "plt.show()"
     ],
     "language": "python",
     "metadata": {},
     "outputs": [
      {
       "metadata": {},
       "output_type": "display_data",
       "text": [
        "<matplotlib.figure.Figure at 0x7f3abb0ce090>"
       ]
      }
     ],
     "prompt_number": 11
    },
    {
     "cell_type": "code",
     "collapsed": false,
     "input": [],
     "language": "python",
     "metadata": {},
     "outputs": []
    }
   ],
   "metadata": {}
  }
 ]
}