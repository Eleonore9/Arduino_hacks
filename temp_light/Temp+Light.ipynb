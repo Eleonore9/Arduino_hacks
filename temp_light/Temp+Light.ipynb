{
 "metadata": {
  "name": ""
 },
 "nbformat": 3,
 "nbformat_minor": 0,
 "worksheets": [
  {
   "cells": [
    {
     "cell_type": "code",
     "collapsed": false,
     "input": [
      "%matplotlib inline \n",
      "#Magic command to display the plots in the notebook"
     ],
     "language": "python",
     "metadata": {},
     "outputs": [],
     "prompt_number": 34
    },
    {
     "cell_type": "markdown",
     "metadata": {},
     "source": [
      "Playing around with an Arduino Uno and 2 sensors\n",
      "======================"
     ]
    },
    {
     "cell_type": "code",
     "collapsed": false,
     "input": [
      "import serial #access the serial port\n",
      "import time \n",
      "from datetime import datetime #use datetime library, duh!\n",
      "import matplotlib.pyplot as plt #use matplotlib to visualise sensor data\n",
      "from matplotlib.dates import YearLocator, DateFormatter #I'd like to use dates!\n",
      "import numpy as np #use numpy as well\n",
      "from ggplot import * #let's try to have a nicer visualisation"
     ],
     "language": "python",
     "metadata": {},
     "outputs": [],
     "prompt_number": 2
    },
    {
     "cell_type": "markdown",
     "metadata": {},
     "source": [
      "ARDUINO -> compile the sketch and upload it to the board\n",
      "-------------"
     ]
    },
    {
     "cell_type": "code",
     "collapsed": false,
     "input": [
      "%%bash\n",
      "ino build\n",
      "ino upload"
     ],
     "language": "python",
     "metadata": {},
     "outputs": [
      {
       "output_type": "stream",
       "stream": "stdout",
       "text": [
        "src/sketch.ino\n",
        "Scanning dependencies of src\n",
        "src/sketch.cpp\n",
        "Linking firmware.elf\n",
        "Converting to firmware.hex\n",
        "Guessing serial port ... /dev/ttyACM0\n"
       ]
      },
      {
       "output_type": "stream",
       "stream": "stderr",
       "text": [
        "\n",
        "avrdude: AVR device initialized and ready to accept instructions\n",
        "\n",
        "Reading | ################################################## | 100% 0.00s\n",
        "\n",
        "avrdude: Device signature = 0x1e950f\n",
        "avrdude: reading input file \".build/uno/firmware.hex\"\n",
        "avrdude: writing flash (6832 bytes):\n",
        "\n",
        "Writing | ################################################## | 100% 1.10s\n",
        "\n",
        "avrdude: 6832 bytes of flash written\n",
        "avrdude: verifying flash memory against .build/uno/firmware.hex:\n",
        "avrdude: load data flash data from input file .build/uno/firmware.hex:\n",
        "avrdude: input file .build/uno/firmware.hex contains 6832 bytes\n",
        "avrdude: reading on-chip flash data:\n",
        "\n",
        "Reading | ################################################## | 100% 0.88s\n",
        "\n",
        "avrdude: verifying ...\n",
        "avrdude: 6832 bytes of flash verified\n",
        "\n",
        "avrdude done.  Thank you.\n",
        "\n"
       ]
      }
     ],
     "prompt_number": 3
    },
    {
     "cell_type": "markdown",
     "metadata": {},
     "source": [
      "PYTHON -> access data output from the Arduino\n",
      "----------------"
     ]
    },
    {
     "cell_type": "code",
     "collapsed": false,
     "input": [
      "SERIAL_PORT = \"/dev/ttyACM0\" #set serial port to get data output from Arduino"
     ],
     "language": "python",
     "metadata": {},
     "outputs": [],
     "prompt_number": 4
    },
    {
     "cell_type": "code",
     "collapsed": false,
     "input": [
      "serialConnection = serial.Serial(SERIAL_PORT, timeout=2.0) #open the serial port"
     ],
     "language": "python",
     "metadata": {},
     "outputs": [],
     "prompt_number": 5
    },
    {
     "cell_type": "code",
     "collapsed": false,
     "input": [
      "sensors_data = {\"light\": [], \"temp\": []}\n",
      "\n",
      "count = 20\n",
      "while count >= 0:\n",
      "    mydata = serialConnection.readline().strip()\n",
      "    if mydata:\n",
      "        print mydata\n",
      "        sensors_data[\"light\"].append(float(mydata.split(',')[0]))\n",
      "        sensors_data[\"temp\"].append(float(mydata.split(',')[1]))\n",
      "        count -= 1"
     ],
     "language": "python",
     "metadata": {},
     "outputs": [
      {
       "output_type": "stream",
       "stream": "stdout",
       "text": [
        "31.59,19.34\n",
        "37.80,20.31\n",
        "56.00,17.87\n",
        "27.75,18.85\n",
        "29.96,19.34\n",
        "36.08,18.85\n",
        "38.71,18.36\n",
        "36.08,17.87\n",
        "33.16,18.36\n",
        "40.39,23.24\n",
        "37.58,18.85\n",
        "32.80,23.24\n",
        "30.92,19.82\n",
        "36.50,20.31\n",
        "37.80,19.34\n",
        "36.93,17.38\n",
        "48.46,18.85\n",
        "39.66,23.24\n",
        "36.08,20.31\n",
        "31.25,22.75\n",
        "34.48,23.24\n"
       ]
      }
     ],
     "prompt_number": 23
    },
    {
     "cell_type": "code",
     "collapsed": false,
     "input": [
      "for k, v in sensors_data.iteritems():\n",
      "    print k, ': ', v"
     ],
     "language": "python",
     "metadata": {},
     "outputs": [
      {
       "output_type": "stream",
       "stream": "stdout",
       "text": [
        "light :  [31.59, 37.8, 56.0, 27.75, 29.96, 36.08, 38.71, 36.08, 33.16, 40.39, 37.58, 32.8, 30.92, 36.5, 37.8, 36.93, 48.46, 39.66, 36.08, 31.25, 34.48]\n",
        "temp :  [19.34, 20.31, 17.87, 18.85, 19.34, 18.85, 18.36, 17.87, 18.36, 23.24, 18.85, 23.24, 19.82, 20.31, 19.34, 17.38, 18.85, 23.24, 20.31, 22.75, 23.24]\n"
       ]
      }
     ],
     "prompt_number": 25
    },
    {
     "cell_type": "code",
     "collapsed": false,
     "input": [
      "plt.plot(np.arange(len(sensors_data['light'])), sensors_data['light'])\n",
      "plt.axis([0, len(sensors_data['light']), min(sensors_data['light']) - 1, max(sensors_data['light']) + 1])\n",
      "ticks_pos = [i + 1.5 for i in range(len(sensors_data['light']))]\n",
      "plt.xticks(ticks_pos, range(len(sensors_data['light'])))\n",
      "plt.ylabel('Light intensity')\n",
      "plt.title('Light intensity measurement with a sensor and Arduino Uno')\n",
      "plt.show()"
     ],
     "language": "python",
     "metadata": {},
     "outputs": [
      {
       "metadata": {},
       "output_type": "display_data",
       "png": "[encoded data removed]",
       "text": [
        "<matplotlib.figure.Figure at 0x7f344e483ed0>"
       ]
      }
     ],
     "prompt_number": 32
    },
    {
     "cell_type": "code",
     "collapsed": false,
     "input": [
      "plt.plot(np.arange(len(sensors_data['temp'])), sensors_data['temp'])\n",
      "plt.axis([0, len(sensors_data['temp']), min(sensors_data['temp']) - 1, max(sensors_data['temp']) + 1])\n",
      "ticks_pos = [i + 1.5 for i in range(len(sensors_data['temp']))]\n",
      "plt.xticks(ticks_pos, range(len(sensors_data['temp'])))\n",
      "plt.ylabel('Temperature (\u00b0C)')\n",
      "plt.title('Temperature measurement with a sensor and Arduino Uno')\n",
      "plt.show()"
     ],
     "language": "python",
     "metadata": {},
     "outputs": [
      {
       "metadata": {},
       "output_type": "display_data",
       "text": [
        "<matplotlib.figure.Figure at 0x7f344e45c190>"
       ]
      }
     ],
     "prompt_number": 35
    },
    {
     "cell_type": "code",
     "collapsed": false,
     "input": [],
     "language": "python",
     "metadata": {},
     "outputs": []
    }
   ],
   "metadata": {}
  }
 ]
}