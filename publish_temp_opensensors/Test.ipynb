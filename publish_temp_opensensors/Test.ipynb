{
 "metadata": {
  "name": ""
 },
 "nbformat": 3,
 "nbformat_minor": 0,
 "worksheets": [
  {
   "cells": [
    {
     "cell_type": "code",
     "collapsed": false,
     "input": [
      "import csv"
     ],
     "language": "python",
     "metadata": {},
     "outputs": [],
     "prompt_number": 9
    },
    {
     "cell_type": "code",
     "collapsed": false,
     "input": [
      "data_list = []"
     ],
     "language": "python",
     "metadata": {},
     "outputs": [],
     "prompt_number": 13
    },
    {
     "cell_type": "code",
     "collapsed": false,
     "input": [
      "with open('test_tempsensor.csv', 'rb') as csvfile:\n",
      "...     datareader = csv.reader(csvfile, delimiter=' ', quotechar='|')\n",
      "...     for row in datareader:\n",
      "...         data_list.append(', '.join(row))"
     ],
     "language": "python",
     "metadata": {},
     "outputs": [],
     "prompt_number": 14
    },
    {
     "cell_type": "code",
     "collapsed": false,
     "input": [
      "print data_list"
     ],
     "language": "python",
     "metadata": {},
     "outputs": [
      {
       "output_type": "stream",
       "stream": "stdout",
       "text": [
        "['2014-11-11, 15:43:30.178609', 'Temperature, (degrees, C)24.22', '24.22', '24.22', '24.22', '24.22', '24.22', '24.22', '24.22', '24.22', '24.22', '24.22', '24.22', '24.22', '23.73', '23.73', '24.22', '23.73', '24.22', '23.73', '24.22', '24.22', '24.22', '24.22', '24.22', '24.22', '24.22', '24.22', '24.22', '23.73', '24.22', '24.22', '24.22', '24.22', '24.22', '24.22', '24.22', '24.22', '23.73', '24.22', '24.22', '24.22', '24.22', '24.22', '24.22', '24.22', '24.22', '24.22', '24.22', '24.22', '24.22', '24.22', '24.22', '24.22', '24.22', '24.22', '24.22', '23.73', '23.73', '24.22', '24.22', '24.22', '23.73']\n"
       ]
      }
     ],
     "prompt_number": 15
    },
    {
     "cell_type": "code",
     "collapsed": false,
     "input": [],
     "language": "python",
     "metadata": {},
     "outputs": []
    }
   ],
   "metadata": {}
  }
 ]
}