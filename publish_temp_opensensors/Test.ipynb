{
 "metadata": {
  "name": ""
 },
 "nbformat": 3,
 "nbformat_minor": 0,
 "worksheets": [
  {
   "cells": [
    {
     "cell_type": "code",
     "collapsed": false,
     "input": [
      "import csv"
     ],
     "language": "python",
     "metadata": {},
     "outputs": [],
     "prompt_number": 9
    },
    {
     "cell_type": "code",
     "collapsed": false,
     "input": [
      "data_list = []"
     ],
     "language": "python",
     "metadata": {},
     "outputs": []
    },
    {
     "cell_type": "code",
     "collapsed": false,
     "input": [
      "with open('test_tempsensor.csv', 'rb') as csvfile:\n",
      "...     datareader = csv.reader(csvfile, delimiter=' ', quotechar='|')\n",
      "...     for row in datareader:\n",
      "...         data_listrow"
     ],
     "language": "python",
     "metadata": {},
     "outputs": [
      {
       "output_type": "stream",
       "stream": "stdout",
       "text": [
        "['2014-11-11', '15:43:30.178609']\n",
        "['Temperature', '(degrees', 'C)24.22']\n",
        "['24.22']\n",
        "['24.22']\n",
        "['24.22']\n",
        "['24.22']\n",
        "['24.22']\n",
        "['24.22']\n",
        "['24.22']\n",
        "['24.22']\n",
        "['24.22']\n",
        "['24.22']\n",
        "['24.22']\n",
        "['24.22']\n",
        "['23.73']\n",
        "['23.73']\n",
        "['24.22']\n",
        "['23.73']\n",
        "['24.22']\n",
        "['23.73']\n",
        "['24.22']\n",
        "['24.22']\n",
        "['24.22']\n",
        "['24.22']\n",
        "['24.22']\n",
        "['24.22']\n",
        "['24.22']\n",
        "['24.22']\n",
        "['24.22']\n",
        "['23.73']\n",
        "['24.22']\n",
        "['24.22']\n",
        "['24.22']\n",
        "['24.22']\n",
        "['24.22']\n",
        "['24.22']\n",
        "['24.22']\n",
        "['24.22']\n",
        "['23.73']\n",
        "['24.22']\n",
        "['24.22']\n",
        "['24.22']\n",
        "['24.22']\n",
        "['24.22']\n",
        "['24.22']\n",
        "['24.22']\n",
        "['24.22']\n",
        "['24.22']\n",
        "['24.22']\n",
        "['24.22']\n",
        "['24.22']\n",
        "['24.22']\n",
        "['24.22']\n",
        "['24.22']\n",
        "['24.22']\n",
        "['24.22']\n",
        "['24.22']\n",
        "['23.73']\n",
        "['23.73']\n",
        "['24.22']\n",
        "['24.22']\n",
        "['24.22']\n",
        "['23.73']\n"
       ]
      }
     ],
     "prompt_number": 11
    },
    {
     "cell_type": "code",
     "collapsed": false,
     "input": [],
     "language": "python",
     "metadata": {},
     "outputs": []
    }
   ],
   "metadata": {}
  }
 ]
}