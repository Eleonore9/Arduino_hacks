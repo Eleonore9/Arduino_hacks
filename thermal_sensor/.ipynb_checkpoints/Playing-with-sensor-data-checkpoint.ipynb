{
 "metadata": {
  "name": ""
 },
 "nbformat": 3,
 "nbformat_minor": 0,
 "worksheets": [
  {
   "cells": [
    {
     "cell_type": "code",
     "collapsed": false,
     "input": [
      "%matplotlib inline \n",
      "#Magic command to display the plots in the notebook"
     ],
     "language": "python",
     "metadata": {},
     "outputs": [],
     "prompt_number": 15
    },
    {
     "cell_type": "heading",
     "level": 1,
     "metadata": {},
     "source": [
      "Playing around with an Arduino Uno and a sensor"
     ]
    },
    {
     "cell_type": "code",
     "collapsed": false,
     "input": [
      "import serial #access the serial port\n",
      "import time \n",
      "from datetime import datetime #use datetime library, duh!\n",
      "import matplotlib.pyplot as plt #use matplotlib to visualise sensor data\n",
      "from matplotlib.dates import YearLocator, DateFormatter #I'd like to use dates!\n",
      "import numpy as np #use numpy as well\n",
      "from ggplot import * #let's try to have a nicer visualisation"
     ],
     "language": "python",
     "metadata": {},
     "outputs": [],
     "prompt_number": 1
    },
    {
     "cell_type": "heading",
     "level": 3,
     "metadata": {},
     "source": [
      "ARDUINO -> compile the sketch and upload it to the board"
     ]
    },
    {
     "cell_type": "code",
     "collapsed": false,
     "input": [
      "%%bash\n",
      "ino build\n",
      "ino upload"
     ],
     "language": "python",
     "metadata": {},
     "outputs": [
      {
       "output_type": "stream",
       "stream": "stdout",
       "text": [
        "src/sketch.ino\n",
        "Scanning dependencies of src\n",
        "Scanning dependencies of Time\n",
        "src/sketch.cpp\n",
        "Make failed with code 2\n",
        "Guessing serial port ... /dev/ttyACM0\n"
       ]
      },
      {
       "output_type": "stream",
       "stream": "stderr",
       "text": [
        "src/sketch.ino: In function \u2018void loop()\u2019:\n",
        "src/sketch.ino:30: error: \u2018printDigits\u2019 was not declared in this scope\n",
        "make: *** [.build/uno/src/sketch.o] Error 1\n",
        "\n",
        "avrdude: AVR device initialized and ready to accept instructions\n",
        "\n",
        "Reading | ################################################## | 100% 0.00s\n",
        "\n",
        "avrdude: Device signature = 0x1e950f\n",
        "avrdude: reading input file \".build/uno/firmware.hex\"\n",
        "avrdude: writing flash (3998 bytes):\n",
        "\n",
        "Writing | ################################################## | 100% 0.65s\n",
        "\n",
        "avrdude: 3998 bytes of flash written\n",
        "avrdude: verifying flash memory against .build/uno/firmware.hex:\n",
        "avrdude: load data flash data from input file .build/uno/firmware.hex:\n",
        "avrdude: input file .build/uno/firmware.hex contains 3998 bytes\n",
        "avrdude: reading on-chip flash data:\n",
        "\n",
        "Reading | ################################################## | 100% 0.52s\n",
        "\n",
        "avrdude: verifying ...\n",
        "avrdude: 3998 bytes of flash verified\n",
        "\n",
        "avrdude done.  Thank you.\n",
        "\n"
       ]
      }
     ],
     "prompt_number": 2
    },
    {
     "cell_type": "heading",
     "level": 3,
     "metadata": {},
     "source": [
      "PYTHON -> access data output from the Arduino"
     ]
    },
    {
     "cell_type": "code",
     "collapsed": false,
     "input": [
      "SERIAL_PORT = \"/dev/ttyACM0\" #set serial port to get data output from Arduino"
     ],
     "language": "python",
     "metadata": {},
     "outputs": [],
     "prompt_number": 3
    },
    {
     "cell_type": "code",
     "collapsed": false,
     "input": [
      "serialConnection = serial.Serial(SERIAL_PORT, timeout=2.0) #open the serial port"
     ],
     "language": "python",
     "metadata": {},
     "outputs": [],
     "prompt_number": 4
    },
    {
     "cell_type": "code",
     "collapsed": false,
     "input": [
      "outputFile = open(\"test_tempsensor.csv\", \"a\") #open the file to append to it"
     ],
     "language": "python",
     "metadata": {},
     "outputs": [],
     "prompt_number": 5
    },
    {
     "cell_type": "code",
     "collapsed": false,
     "input": [
      "outputFile.write(str(datetime.now()) + '\\n')"
     ],
     "language": "python",
     "metadata": {},
     "outputs": [],
     "prompt_number": 6
    },
    {
     "cell_type": "code",
     "collapsed": false,
     "input": [
      "outputFile.write(\"Temperature (in Celsius degrees)\")"
     ],
     "language": "python",
     "metadata": {},
     "outputs": [],
     "prompt_number": 7
    },
    {
     "cell_type": "code",
     "collapsed": false,
     "input": [
      "timestamp = datetime.now().time().strftime(\"%H:%M:%S %f\")\n",
      "count = 20\n",
      "sensor_data = {\"list_time\": [], \"list_data\": []}\n",
      "while count >= 0:\n",
      "    tempdata = serialConnection.readline().strip()\n",
      "    if tempdata:\n",
      "        outputFile.write(timestamp + ',' + tempdata)\n",
      "        try:\n",
      "            tempdata = float(tempdata)\n",
      "        except ValueError:\n",
      "            tempdata = int(tempdata)\n",
      "        print count, ' - ', tempdata\n",
      "        sensor_data[\"list_data\"].append(float(tempdata))\n",
      "        sensor_data[\"list_time\"].append(timestamp)\n",
      "        count -= 1"
     ],
     "language": "python",
     "metadata": {},
     "outputs": [
      {
       "output_type": "stream",
       "stream": "stdout",
       "text": [
        "20  -  22.27 23:25:48 609730\n",
        "19  -  22.27 23:25:48 609730\n",
        "18  -  22.27 23:25:48 609730\n",
        "17  -  22.75 23:25:48 609730\n",
        "16  -  22.27 23:25:48 609730\n",
        "15  -  22.27 23:25:48 609730\n",
        "14  -  22.27 23:25:48 609730\n",
        "13  -  22.27 23:25:48 609730\n",
        "12  -  22.27 23:25:48 609730\n",
        "11  -  22.75 23:25:48 609730\n",
        "10  -  22.27 23:25:48 609730\n",
        "9  -  22.27 23:25:48 609730\n",
        "8  -  22.27 23:25:48 609730\n",
        "7  -  22.27 23:25:48 609730\n",
        "6  -  22.27 23:25:48 609730\n",
        "5  -  22.27 23:25:48 609730\n",
        "4  -  22.27 23:25:48 609730\n",
        "3  -  22.27 23:25:48 609730\n",
        "2  -  22.75 23:25:48 609730\n",
        "1  -  22.27 23:25:48 609730\n",
        "0  -  22.27 23:25:48 609730\n"
       ]
      }
     ],
     "prompt_number": 12
    },
    {
     "cell_type": "code",
     "collapsed": false,
     "input": [
      "print sensor_data"
     ],
     "language": "python",
     "metadata": {},
     "outputs": [
      {
       "output_type": "stream",
       "stream": "stdout",
       "text": [
        "{'list_time': ['22:29:24', '22:29:24', '22:29:24', '22:29:24', '22:29:24', '22:29:24', '22:29:24', '22:29:24', '22:29:24', '22:29:24', '22:29:24', '22:29:24', '22:29:24', '22:29:24', '22:29:24', '22:29:24', '22:29:24', '22:29:24', '22:29:24', '22:29:24', '22:29:24'], 'list_data': [17.38, 17.38, 17.38, 17.87, 17.87, 17.38, 17.38, 17.38, 17.38, 17.38, 17.38, 17.38, 17.38, 17.38, 17.38, 17.38, 17.38, 17.38, 17.38, 17.38, 17.38]}\n"
       ]
      }
     ],
     "prompt_number": 193
    },
    {
     "cell_type": "code",
     "collapsed": false,
     "input": [
      "list_time, list_data = sensor_data.get(\"list_time\"), sensor_data.get(\"list_data\")\n",
      "plt.plot(np.arange(len(list_time)), list_data)\n",
      "plt.axis([0, len(list_time), min(list_data) - 1, max(list_data) + 1])\n",
      "ticks_pos = [i + 1.5 for i in range(len(list_time))]\n",
      "plt.xticks(ticks_pos, list_time)\n",
      "plt.ylabel('Temperature (Celsius degrees)')\n",
      "plt.xlabel('Time')\n",
      "plt.title('Room temperature at London Fablab')\n",
      "plt.show()"
     ],
     "language": "python",
     "metadata": {},
     "outputs": [
      {
       "metadata": {},
       "output_type": "display_data",
       "png": "[encoded data removed]",
       "text": [
        "<matplotlib.figure.Figure at 0x7fb3710d9110>"
       ]
      }
     ],
     "prompt_number": 16
    },
    {
     "cell_type": "code",
     "collapsed": false,
     "input": [],
     "language": "python",
     "metadata": {},
     "outputs": []
    }
   ],
   "metadata": {}
  }
 ]
}