{
 "metadata": {
  "name": ""
 },
 "nbformat": 3,
 "nbformat_minor": 0,
 "worksheets": [
  {
   "cells": [
    {
     "cell_type": "code",
     "collapsed": false,
     "input": [
      "%matplotlib inline \n",
      "#Magic command to display the plots in the notebook"
     ],
     "language": "python",
     "metadata": {},
     "outputs": [],
     "prompt_number": 33
    },
    {
     "cell_type": "heading",
     "level": 1,
     "metadata": {},
     "source": [
      "Playing around with an Arduino Uno and a sensor"
     ]
    },
    {
     "cell_type": "code",
     "collapsed": false,
     "input": [
      "import serial #access the serial port\n",
      "from datetime import datetime #use datetime library, duh!\n",
      "import matplotlib.pyplot as plt #use matplotlib to visualise sensor data\n",
      "import numpy as np #use numpy as well"
     ],
     "language": "python",
     "metadata": {},
     "outputs": [],
     "prompt_number": 73
    },
    {
     "cell_type": "code",
     "collapsed": false,
     "input": [
      "import Log_tempdata as log_temp #in case I need the function defined in this script"
     ],
     "language": "python",
     "metadata": {},
     "outputs": [],
     "prompt_number": 62
    },
    {
     "cell_type": "heading",
     "level": 3,
     "metadata": {},
     "source": [
      "ARDUINO -> compile the sketch and upload it to the board"
     ]
    },
    {
     "cell_type": "code",
     "collapsed": false,
     "input": [
      "%%bash\n",
      "ino build\n",
      "ino upload"
     ],
     "language": "python",
     "metadata": {},
     "outputs": [
      {
       "output_type": "stream",
       "stream": "stdout",
       "text": [
        "Guessing serial port ... /dev/ttyACM0\n"
       ]
      },
      {
       "output_type": "stream",
       "stream": "stderr",
       "text": [
        "\n",
        "avrdude: AVR device initialized and ready to accept instructions\n",
        "\n",
        "Reading | ################################################## | 100% 0.00s\n",
        "\n",
        "avrdude: Device signature = 0x1e950f\n",
        "avrdude: reading input file \".build/uno/firmware.hex\"\n",
        "avrdude: writing flash (3998 bytes):\n",
        "\n",
        "Writing | ################################################## | 100% 0.65s\n",
        "\n",
        "avrdude: 3998 bytes of flash written\n",
        "avrdude: verifying flash memory against .build/uno/firmware.hex:\n",
        "avrdude: load data flash data from input file .build/uno/firmware.hex:\n",
        "avrdude: input file .build/uno/firmware.hex contains 3998 bytes\n",
        "avrdude: reading on-chip flash data:\n",
        "\n",
        "Reading | ################################################## | 100% 0.52s\n",
        "\n",
        "avrdude: verifying ...\n",
        "avrdude: 3998 bytes of flash verified\n",
        "\n",
        "avrdude done.  Thank you.\n",
        "\n"
       ]
      }
     ],
     "prompt_number": 47
    },
    {
     "cell_type": "heading",
     "level": 3,
     "metadata": {},
     "source": [
      "PYTHON -> access data output from the Arduino"
     ]
    },
    {
     "cell_type": "code",
     "collapsed": false,
     "input": [
      "SERIAL_PORT = \"/dev/ttyACM0\" #set serial port to get data output from Arduino"
     ],
     "language": "python",
     "metadata": {},
     "outputs": [],
     "prompt_number": 48
    },
    {
     "cell_type": "code",
     "collapsed": false,
     "input": [
      "serialConnection = serial.Serial(SERIAL_PORT, timeout=2.0) #open the serial port"
     ],
     "language": "python",
     "metadata": {},
     "outputs": [],
     "prompt_number": 49
    },
    {
     "cell_type": "code",
     "collapsed": false,
     "input": [
      "outputFile = open(\"test_tempsensor.csv\", \"a\") #open the file to append to it"
     ],
     "language": "python",
     "metadata": {},
     "outputs": [],
     "prompt_number": 50
    },
    {
     "cell_type": "code",
     "collapsed": false,
     "input": [
      "outputFile.write(str(datetime.now()) + '\\n')"
     ],
     "language": "python",
     "metadata": {},
     "outputs": [],
     "prompt_number": 51
    },
    {
     "cell_type": "code",
     "collapsed": false,
     "input": [
      "outputFile.write(\"Temperature (in Celsius degrees)\")"
     ],
     "language": "python",
     "metadata": {},
     "outputs": [],
     "prompt_number": 52
    },
    {
     "cell_type": "code",
     "collapsed": false,
     "input": [
      "count = 20\n",
      "data_list = []\n",
      "while count >= 0:\n",
      "    data = serialConnection.readline().strip()\n",
      "    if data:\n",
      "        print count, ' - ', data\n",
      "        data_list.append(data)\n",
      "        outputFile.write(data + '\\n')\n",
      "        count -= 1"
     ],
     "language": "python",
     "metadata": {},
     "outputs": [
      {
       "output_type": "stream",
       "stream": "stdout",
       "text": [
        "20  -  18.36\n",
        "19  -  18.85\n",
        "18  -  18.36\n",
        "17  -  18.36\n",
        "16  -  18.36\n",
        "15  -  19.34\n",
        "14  -  18.36\n",
        "13  -  18.36\n",
        "12  -  18.36\n",
        "11  -  18.36\n",
        "10  -  18.36\n",
        "9  -  18.36\n",
        "8  -  18.36\n",
        "7  -  18.36\n",
        "6  -  18.36\n",
        "5  -  18.36\n",
        "4  -  18.36\n",
        "3  -  18.36\n",
        "2  -  18.85\n",
        "1  -  18.36\n",
        "0  -  18.36\n"
       ]
      }
     ],
     "prompt_number": 58
    },
    {
     "cell_type": "code",
     "collapsed": false,
     "input": [
      "print data_list"
     ],
     "language": "python",
     "metadata": {},
     "outputs": [
      {
       "output_type": "stream",
       "stream": "stdout",
       "text": [
        "['18.36', '18.85', '18.36', '18.36', '18.36', '19.34', '18.36', '18.36', '18.36', '18.36', '18.36', '18.36', '18.36', '18.36', '18.36', '18.36', '18.36', '18.36', '18.85', '18.36', '18.36']\n"
       ]
      }
     ],
     "prompt_number": 59
    },
    {
     "cell_type": "code",
     "collapsed": false,
     "input": [
      "plt.plot(data_list)\n",
      "plt.ylabel('Room temperature (Celsius degrees)')\n",
      "plt.show()"
     ],
     "language": "python",
     "metadata": {},
     "outputs": [
      {
       "metadata": {},
       "output_type": "display_data",
       "png": "[encoded data removed]",
       "text": [
        "<matplotlib.figure.Figure at 0x7fadcee90d10>"
       ]
      }
     ],
     "prompt_number": 60
    },
    {
     "cell_type": "code",
     "collapsed": false,
     "input": [
      "plt.style.use('ggplot')\n",
      "\n",
      "fig, axes = plt.subplots(ncols=2, nrows=2)\n",
      "ax1, ax2, ax3, ax4 = axes.ravel()\n",
      "\n",
      "# scatter plot (Note: `plt.scatter` doesn't use default colors)\n",
      "x, y = np.random.normal(size=(2, 200))\n",
      "ax1.plot(x, y, 'o')"
     ],
     "language": "python",
     "metadata": {},
     "outputs": [
      {
       "ename": "AttributeError",
       "evalue": "'module' object has no attribute 'style'",
       "output_type": "pyerr",
       "traceback": [
        "\u001b[0;31m---------------------------------------------------------------------------\u001b[0m\n\u001b[0;31mAttributeError\u001b[0m                            Traceback (most recent call last)",
        "\u001b[0;32m<ipython-input-74-f962f679e679>\u001b[0m in \u001b[0;36m<module>\u001b[0;34m()\u001b[0m\n\u001b[0;32m----> 1\u001b[0;31m \u001b[0mplt\u001b[0m\u001b[0;34m.\u001b[0m\u001b[0mstyle\u001b[0m\u001b[0;34m.\u001b[0m\u001b[0muse\u001b[0m\u001b[0;34m(\u001b[0m\u001b[0;34m'ggplot'\u001b[0m\u001b[0;34m)\u001b[0m\u001b[0;34m\u001b[0m\u001b[0m\n\u001b[0m\u001b[1;32m      2\u001b[0m \u001b[0;34m\u001b[0m\u001b[0m\n\u001b[1;32m      3\u001b[0m \u001b[0mfig\u001b[0m\u001b[0;34m,\u001b[0m \u001b[0maxes\u001b[0m \u001b[0;34m=\u001b[0m \u001b[0mplt\u001b[0m\u001b[0;34m.\u001b[0m\u001b[0msubplots\u001b[0m\u001b[0;34m(\u001b[0m\u001b[0mncols\u001b[0m\u001b[0;34m=\u001b[0m\u001b[0;36m2\u001b[0m\u001b[0;34m,\u001b[0m \u001b[0mnrows\u001b[0m\u001b[0;34m=\u001b[0m\u001b[0;36m2\u001b[0m\u001b[0;34m)\u001b[0m\u001b[0;34m\u001b[0m\u001b[0m\n\u001b[1;32m      4\u001b[0m \u001b[0max1\u001b[0m\u001b[0;34m,\u001b[0m \u001b[0max2\u001b[0m\u001b[0;34m,\u001b[0m \u001b[0max3\u001b[0m\u001b[0;34m,\u001b[0m \u001b[0max4\u001b[0m \u001b[0;34m=\u001b[0m \u001b[0maxes\u001b[0m\u001b[0;34m.\u001b[0m\u001b[0mravel\u001b[0m\u001b[0;34m(\u001b[0m\u001b[0;34m)\u001b[0m\u001b[0;34m\u001b[0m\u001b[0m\n\u001b[1;32m      5\u001b[0m \u001b[0;34m\u001b[0m\u001b[0m\n",
        "\u001b[0;31mAttributeError\u001b[0m: 'module' object has no attribute 'style'"
       ]
      }
     ],
     "prompt_number": 74
    },
    {
     "cell_type": "code",
     "collapsed": false,
     "input": [],
     "language": "python",
     "metadata": {},
     "outputs": []
    }
   ],
   "metadata": {}
  }
 ]
}