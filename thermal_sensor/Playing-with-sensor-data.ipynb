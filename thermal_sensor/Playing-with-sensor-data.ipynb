{
 "metadata": {
  "name": ""
 },
 "nbformat": 3,
 "nbformat_minor": 0,
 "worksheets": [
  {
   "cells": [
    {
     "cell_type": "code",
     "collapsed": false,
     "input": [
      "import serial\n",
      "from datetime import datetime"
     ],
     "language": "python",
     "metadata": {},
     "outputs": [],
     "prompt_number": 14
    },
    {
     "cell_type": "code",
     "collapsed": false,
     "input": [
      "import Log_tempdata as log_temp #in case I need the function defined in that script"
     ],
     "language": "python",
     "metadata": {},
     "outputs": [],
     "prompt_number": 15
    },
    {
     "cell_type": "code",
     "collapsed": false,
     "input": [
      "SERIAL_PORT = \"/dev/ttyACM1\" #set serial port to get data output from Arduino"
     ],
     "language": "python",
     "metadata": {},
     "outputs": [],
     "prompt_number": 18
    },
    {
     "cell_type": "code",
     "collapsed": false,
     "input": [
      "serialConnection = serial.Serial(SERIAL_PORT, timeout=2.0) #open the serial port"
     ],
     "language": "python",
     "metadata": {},
     "outputs": [],
     "prompt_number": 19
    },
    {
     "cell_type": "code",
     "collapsed": false,
     "input": [
      "outputFile = open(\"test_tempsensor.csv\", \"a\") #open the file to append to it"
     ],
     "language": "python",
     "metadata": {},
     "outputs": [],
     "prompt_number": 20
    },
    {
     "cell_type": "code",
     "collapsed": false,
     "input": [
      "outputFile.write(str(datetime.now()) + '\\n')"
     ],
     "language": "python",
     "metadata": {},
     "outputs": [],
     "prompt_number": 21
    },
    {
     "cell_type": "code",
     "collapsed": false,
     "input": [
      "outputFile.write(\"Temperature (in Celsius degrees)\")"
     ],
     "language": "python",
     "metadata": {},
     "outputs": [],
     "prompt_number": 22
    },
    {
     "cell_type": "code",
     "collapsed": false,
     "input": [
      "count = 20\n",
      "data_list = []\n",
      "while count >= 0:\n",
      "    data = serialConnection.readline().strip()\n",
      "    if data:\n",
      "        print count, data\n",
      "        data_list.append(data)\n",
      "        outputFile.write(data + '\\n')\n",
      "        count -= 1"
     ],
     "language": "python",
     "metadata": {},
     "outputs": [
      {
       "output_type": "stream",
       "stream": "stdout",
       "text": [
        "20 19.82\n",
        "19 19.82\n",
        "18 19.82\n",
        "17 19.82\n",
        "16 19.82\n",
        "15 19.82\n",
        "14 19.82\n",
        "13 19.82\n",
        "12 19.82\n",
        "11 19.82\n",
        "10 19.82\n",
        "9 19.82\n",
        "8 19.82\n",
        "7 19.82\n",
        "6 19.82\n",
        "5 19.82\n",
        "4 19.82\n",
        "3 19.82\n",
        "2 19.82\n",
        "1 19.82\n",
        "0 19.82\n"
       ]
      }
     ],
     "prompt_number": 26
    },
    {
     "cell_type": "code",
     "collapsed": false,
     "input": [
      "print data_list"
     ],
     "language": "python",
     "metadata": {},
     "outputs": [
      {
       "output_type": "stream",
       "stream": "stdout",
       "text": [
        "['19.82', '19.82', '19.82', '19.82', '19.82', '19.82', '19.82', '19.82', '19.82', '19.82', '19.82', '19.82', '19.82', '19.82', '19.82', '19.82', '19.82', '19.82', '19.82', '19.82', '19.82']\n"
       ]
      }
     ],
     "prompt_number": 27
    },
    {
     "cell_type": "code",
     "collapsed": false,
     "input": [],
     "language": "python",
     "metadata": {},
     "outputs": []
    }
   ],
   "metadata": {}
  }
 ]
}