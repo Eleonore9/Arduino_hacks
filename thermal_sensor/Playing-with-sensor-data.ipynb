{
 "metadata": {
  "name": ""
 },
 "nbformat": 3,
 "nbformat_minor": 0,
 "worksheets": [
  {
   "cells": [
    {
     "cell_type": "code",
     "collapsed": false,
     "input": [
      "%matplotlib inline \n",
      "#Magic command to display the plots in the notebook"
     ],
     "language": "python",
     "metadata": {},
     "outputs": [],
     "prompt_number": 1
    },
    {
     "cell_type": "heading",
     "level": 1,
     "metadata": {},
     "source": [
      "Playing around with an Arduino Uno and a sensor"
     ]
    },
    {
     "cell_type": "code",
     "collapsed": false,
     "input": [
      "import serial #access the serial port\n",
      "from datetime import datetime #use datetime library, duh!\n",
      "import matplotlib.pyplot as plt #use matplotlib to visualise sensor data\n",
      "import numpy as np #use numpy as well"
     ],
     "language": "python",
     "metadata": {},
     "outputs": [],
     "prompt_number": 2
    },
    {
     "cell_type": "code",
     "collapsed": false,
     "input": [
      "import Log_tempdata as log_temp #in case I need the function defined in this script"
     ],
     "language": "python",
     "metadata": {},
     "outputs": [],
     "prompt_number": 3
    },
    {
     "cell_type": "heading",
     "level": 3,
     "metadata": {},
     "source": [
      "ARDUINO -> compile the sketch and upload it to the board"
     ]
    },
    {
     "cell_type": "code",
     "collapsed": false,
     "input": [
      "%%bash\n",
      "ino build\n",
      "ino upload"
     ],
     "language": "python",
     "metadata": {},
     "outputs": [
      {
       "output_type": "stream",
       "stream": "stdout",
       "text": [
        "Guessing serial port ... /dev/ttyACM0\n"
       ]
      },
      {
       "output_type": "stream",
       "stream": "stderr",
       "text": [
        "\n",
        "avrdude: AVR device initialized and ready to accept instructions\n",
        "\n",
        "Reading | ################################################## | 100% 0.00s\n",
        "\n",
        "avrdude: Device signature = 0x1e950f\n",
        "avrdude: reading input file \".build/uno/firmware.hex\"\n",
        "avrdude: writing flash (4000 bytes):\n",
        "\n",
        "Writing | ################################################## | 100% 0.65s\n",
        "\n",
        "avrdude: 4000 bytes of flash written\n",
        "avrdude: verifying flash memory against .build/uno/firmware.hex:\n",
        "avrdude: load data flash data from input file .build/uno/firmware.hex:\n",
        "avrdude: input file .build/uno/firmware.hex contains 4000 bytes\n",
        "avrdude: reading on-chip flash data:\n",
        "\n",
        "Reading | ################################################## | 100% 0.52s\n",
        "\n",
        "avrdude: verifying ...\n",
        "avrdude: 4000 bytes of flash verified\n",
        "\n",
        "avrdude done.  Thank you.\n",
        "\n"
       ]
      }
     ],
     "prompt_number": 17
    },
    {
     "cell_type": "heading",
     "level": 3,
     "metadata": {},
     "source": [
      "PYTHON -> access data output from the Arduino"
     ]
    },
    {
     "cell_type": "code",
     "collapsed": false,
     "input": [
      "SERIAL_PORT = \"/dev/ttyACM0\" #set serial port to get data output from Arduino"
     ],
     "language": "python",
     "metadata": {},
     "outputs": [],
     "prompt_number": 18
    },
    {
     "cell_type": "code",
     "collapsed": false,
     "input": [
      "serialConnection = serial.Serial(SERIAL_PORT, timeout=2.0) #open the serial port"
     ],
     "language": "python",
     "metadata": {},
     "outputs": [],
     "prompt_number": 19
    },
    {
     "cell_type": "code",
     "collapsed": false,
     "input": [
      "outputFile = open(\"test_tempsensor.csv\", \"a\") #open the file to append to it"
     ],
     "language": "python",
     "metadata": {},
     "outputs": [],
     "prompt_number": 20
    },
    {
     "cell_type": "code",
     "collapsed": false,
     "input": [
      "outputFile.write(str(datetime.now()) + '\\n')"
     ],
     "language": "python",
     "metadata": {},
     "outputs": [],
     "prompt_number": 21
    },
    {
     "cell_type": "code",
     "collapsed": false,
     "input": [
      "outputFile.write(\"Temperature (in Celsius degrees)\")"
     ],
     "language": "python",
     "metadata": {},
     "outputs": [],
     "prompt_number": 22
    },
    {
     "cell_type": "code",
     "collapsed": false,
     "input": [
      "count = 20\n",
      "data_list = []\n",
      "while count >= 0:\n",
      "    data = serialConnection.readline().strip()\n",
      "    if data:\n",
      "        print count, ' - ', data\n",
      "        data_list.append(data)\n",
      "        outputFile.write(data + '\\n')\n",
      "        count -= 1"
     ],
     "language": "python",
     "metadata": {},
     "outputs": [
      {
       "output_type": "stream",
       "stream": "stdout",
       "text": [
        "20  -  16.89\n",
        "19  -  17.38\n",
        "18  -  18.36\n",
        "17  -  17.87\n",
        "16  -  16.89\n",
        "15  -  17.87\n",
        "14  -  18.36\n",
        "13  -  17.87\n",
        "12  -  17.38\n",
        "11  -  18.36\n",
        "10  -  16.89\n",
        "9  -  17.87\n",
        "8  -  18.36\n",
        "7  -  17.87\n",
        "6  -  18.36\n",
        "5  -  16.89\n",
        "4  -  17.87\n",
        "3  -  18.36\n",
        "2  -  17.87\n",
        "1  -  17.87\n",
        "0  -  17.87\n"
       ]
      }
     ],
     "prompt_number": 25
    },
    {
     "cell_type": "code",
     "collapsed": false,
     "input": [
      "print data_list"
     ],
     "language": "python",
     "metadata": {},
     "outputs": [
      {
       "output_type": "stream",
       "stream": "stdout",
       "text": [
        "['16.89', '17.38', '18.36', '17.87', '16.89', '17.87', '18.36', '17.87', '17.38', '18.36', '16.89', '17.87', '18.36', '17.87', '18.36', '16.89', '17.87', '18.36', '17.87', '17.87', '17.87']\n"
       ]
      }
     ],
     "prompt_number": 26
    },
    {
     "cell_type": "code",
     "collapsed": false,
     "input": [
      "plt.plot(data_list)\n",
      "plt.ylabel('Room temperature (Celsius degrees)')\n",
      "plt.show()"
     ],
     "language": "python",
     "metadata": {},
     "outputs": [
      {
       "metadata": {},
       "output_type": "display_data",
       "png": "[encoded data removed]",
       "text": [
        "<matplotlib.figure.Figure at 0x7fd3fbb1ef50>"
       ]
      }
     ],
     "prompt_number": 27
    },
    {
     "cell_type": "code",
     "collapsed": false,
     "input": [],
     "language": "python",
     "metadata": {},
     "outputs": []
    }
   ],
   "metadata": {}
  }
 ]
}